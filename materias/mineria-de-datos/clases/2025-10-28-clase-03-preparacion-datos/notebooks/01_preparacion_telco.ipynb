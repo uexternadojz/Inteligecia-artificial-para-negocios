{
 "cells": [
  {
   "cell_type": "markdown",
   "metadata": {
    "tags": [
     "contexto"
    ]
   },
   "source": [
    "# Clase 03 · Telco Customer Churn\n",
    "\n",
    "Esta libreta guía a los estudiantes por las fases 3 y 4 de CRISP-DM: **entendimiento** y **preparación** de datos. El objetivo pedagógico es traducir hipótesis de negocio sobre churn en pasos concretos de exploración, limpieza y documentación."
   ]
  },
  {
   "cell_type": "markdown",
   "metadata": {},
   "source": [
    "## Objetivos de aprendizaje\n",
    "\n",
    "1. Identificar qué variables del dataset Telco Churn explican mejor la rotación de clientes.\n",
    "2. Practicar rutinas reproducibles de limpieza (tipos, nulos, codificaciones).\n",
    "3. Generar artefactos (dataset limpio, visualizaciones, resumen) que faciliten el modelado posterior."
   ]
  },
  {
   "cell_type": "code",
   "execution_count": null,
   "metadata": {
    "tags": [
     "setup"
    ]
   },
   "outputs": [],
   "source": [
    \"\"\"Importación de librerías base\"\"\"\n",
    "from pathlib import Path\n",
    "\n",
    "import pandas as pd\n",
    "import seaborn as sns\n",
    "import matplotlib.pyplot as plt\n",
    "\n",
    "BASE_DIR = Path.cwd().parents[0]\n",
    "DATA_PATH = BASE_DIR / \"data\" / \"WA_Fn-UseC_-Telco-Customer-Churn.csv\"\n",
    "OUTPUTS_DIR = BASE_DIR / \"outputs\"\n",
    "\n",
    "sns.set_theme(style=\"whitegrid\", palette=\"deep\")\n",
    "plt.rcParams[\"figure.figsize\"] = (8, 4)\n",
    "\n",
    "DATA_PATH"
   ]
  },
  {
   "cell_type": "code",
   "execution_count": null,
   "metadata": {
    "tags": [
     "exploracion"
    ]
   },
   "outputs": [],
   "source": [
    \"\"\"Exploración rápida del dataset crudo\"\"\"\n",
    "df_raw = pd.read_csv(DATA_PATH)\n",
    "display(df_raw.head())\n",
    "display(df_raw.describe(include=\"all\").transpose().head(10))\n",
    "df_raw.info()"
   ]
  },
  {
   "cell_type": "markdown",
   "metadata": {},
   "source": [
    "> **Discusión guiada:**\n",
    "\n",
    "- ¿Qué columnas están directamente ligadas al negocio (contrato, pagos, tenure)?\n",
    "- ¿Qué variables parecen necesitar limpieza (ej. `TotalCharges` como texto)?\n",
    "- ¿Qué tan balanceada está la variable objetivo `Churn`?"
   ]
  },
  {
   "cell_type": "code",
   "execution_count": null,
   "metadata": {
    "tags": [
     "pipeline"
    ]
   },
   "outputs": [],
   "source": [
    \"\"\"Ejecución del pipeline de preparación\"\"\"\n",
    "import sys\n",
    "sys.path.append(str(BASE_DIR / \"scripts\"))\n",
    "\n",
    "from preparar_dataset_telco import (\n",
    "    cargar_csv,\n",
    "    limpiar_total_charges,\n",
    "    normalizar_columnas_binarias,\n",
    "    crear_variables_derivadas,\n",
    "    codificar_categoricas,\n",
    ")\n",
    "\n",
    "df = cargar_csv()\n",
    "df = limpiar_total_charges(df)\n",
    "df = normalizar_columnas_binarias(df)\n",
    "df = crear_variables_derivadas(df)\n",
    "df_prepared = codificar_categoricas(df)\n",
    "\n",
    "display(df_prepared.head())\n",
    "df_prepared.shape"
   ]
  },
  {
   "cell_type": "markdown",
   "metadata": {},
   "source": [
    "## Insight rápido: tasas de churn por ejes de negocio\n",
    "Agrupamos columnas relevantes (contrato, pago, tenure, servicios) para contrastar las hipótesis trabajadas en clase."
   ]
  },
  {
   "cell_type": "code",
   "execution_count": null,
   "metadata": {
    "tags": [
     "visualizaciones"
    ]
   },
   "outputs": [],
   "source": [
    \"\"\"Funciones auxiliares para calcular y graficar tasas de churn\"\"\"\n",
    "from scripts.generar_insights_telco import churn_rate\n",
    "\n",
    "df_analysis = df.copy()\n",
    "\n",
    "contract_churn = churn_rate(df_analysis, \"Contract\")\n",
    "payment_churn = churn_rate(df_analysis, \"PaymentMethod\")\n",
    "tenure_churn = churn_rate(df_analysis, \"TenureGroup\")\n",
    "\n",
    "display(contract_churn)\n",
    "display(payment_churn.head())\n",
    "display(tenure_churn)"
   ]
  },
  {
   "cell_type": "markdown",
   "metadata": {},
   "source": [
    "### Reflexión\n",
    "\n",
    "- ¿Qué acciones propondrías para los clientes \"Month-to-month\"?\n",
    "- ¿Qué incentivos podrían disminuir el churn de quienes usan `Electronic check`?\n",
    "- ¿Cómo priorizarías a clientes con `TenureGroup` bajo?\n",
    "- ¿Qué variables adicionales valdría la pena crear antes de modelar?"
   ]
  }
 ],
 "metadata": {
  "kernelspec": {
   "display_name": "Python 3",
   "language": "python",
   "name": "python3"
  },
  "language_info": {
   "codemirror_mode": {
    "name": "ipython",
    "version": 3
   },
   "file_extension": ".py",
   "mimetype": "text/x-python",
   "name": "python",
   "nbconvert_exporter": "python",
   "pygments_lexer": "ipython3",
   "version": "3.13"
  }
 },
 "nbformat": 4,
 "nbformat_minor": 5
}
